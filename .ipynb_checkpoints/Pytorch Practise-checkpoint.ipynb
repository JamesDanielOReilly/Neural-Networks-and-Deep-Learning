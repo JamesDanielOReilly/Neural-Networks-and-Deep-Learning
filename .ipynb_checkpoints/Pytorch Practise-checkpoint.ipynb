{
 "cells": [
  {
   "cell_type": "code",
   "execution_count": 2,
   "metadata": {},
   "outputs": [
    {
     "name": "stdout",
     "output_type": "stream",
     "text": [
      "tensor([[0.3926, 0.4754, 0.8614],\n",
      "        [0.5027, 0.3104, 0.9363],\n",
      "        [0.3026, 0.2562, 0.1750],\n",
      "        [0.7650, 0.0092, 0.7341],\n",
      "        [0.1222, 0.1445, 0.8866]])\n"
     ]
    }
   ],
   "source": [
    "import torch\n",
    "x = torch.rand(5, 3)\n",
    "print(x)"
   ]
  }
 ],
 "metadata": {
  "kernelspec": {
   "display_name": "Python 3",
   "language": "python",
   "name": "python3"
  },
  "language_info": {
   "codemirror_mode": {
    "name": "ipython",
    "version": 3
   },
   "file_extension": ".py",
   "mimetype": "text/x-python",
   "name": "python",
   "nbconvert_exporter": "python",
   "pygments_lexer": "ipython3",
   "version": "3.6.3"
  }
 },
 "nbformat": 4,
 "nbformat_minor": 2
}
