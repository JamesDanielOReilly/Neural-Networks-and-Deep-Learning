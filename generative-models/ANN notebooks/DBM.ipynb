{
 "cells": [
  {
   "cell_type": "code",
   "execution_count": 3,
   "metadata": {
    "colab": {},
    "colab_type": "code",
    "id": "c2ut_4TUa9YI"
   },
   "outputs": [
    {
     "name": "stdout",
     "output_type": "stream",
     "text": [
      "Collecting nose\n",
      "\u001b[33m  Cache entry deserialization failed, entry ignored\u001b[0m\n",
      "  Downloading https://files.pythonhosted.org/packages/15/d8/dd071918c040f50fa1cf80da16423af51ff8ce4a0f2399b7bf8de45ac3d9/nose-1.3.7-py3-none-any.whl (154kB)\n",
      "\u001b[K    100% |████████████████████████████████| 163kB 3.3MB/s ta 0:00:01\n",
      "\u001b[?25hInstalling collected packages: nose\n",
      "Successfully installed nose-1.3.7\n",
      "Cloning into 'boltzmann-machines'...\n",
      "remote: Enumerating objects: 77, done.\u001b[K\n",
      "remote: Counting objects: 100% (77/77), done.\u001b[K\n",
      "remote: Compressing objects: 100% (71/71), done.\u001b[K\n",
      "remote: Total 77 (delta 6), reused 34 (delta 2), pack-reused 0\u001b[K\n",
      "Unpacking objects: 100% (77/77), done.\n"
     ]
    },
    {
     "ename": "ModuleNotFoundError",
     "evalue": "No module named 'examples'",
     "output_type": "error",
     "traceback": [
      "\u001b[0;31m---------------------------------------------------------------------------\u001b[0m",
      "\u001b[0;31mModuleNotFoundError\u001b[0m                       Traceback (most recent call last)",
      "\u001b[0;32m<ipython-input-3-84e930bba482>\u001b[0m in \u001b[0;36m<module>\u001b[0;34m\u001b[0m\n\u001b[1;32m     11\u001b[0m \u001b[0mplt\u001b[0m\u001b[0;34m.\u001b[0m\u001b[0mrcParams\u001b[0m\u001b[0;34m[\u001b[0m\u001b[0;34m'axes.grid'\u001b[0m\u001b[0;34m]\u001b[0m \u001b[0;34m=\u001b[0m \u001b[0;32mFalse\u001b[0m\u001b[0;34m\u001b[0m\u001b[0;34m\u001b[0m\u001b[0m\n\u001b[1;32m     12\u001b[0m \u001b[0;34m\u001b[0m\u001b[0m\n\u001b[0;32m---> 13\u001b[0;31m \u001b[0;32mfrom\u001b[0m \u001b[0mexamples\u001b[0m \u001b[0;32mimport\u001b[0m \u001b[0mcallable_dbm_mnist\u001b[0m\u001b[0;34m\u001b[0m\u001b[0;34m\u001b[0m\u001b[0m\n\u001b[0m\u001b[1;32m     14\u001b[0m \u001b[0;32mfrom\u001b[0m \u001b[0mkeras\u001b[0m\u001b[0;34m.\u001b[0m\u001b[0mdatasets\u001b[0m \u001b[0;32mimport\u001b[0m \u001b[0mmnist\u001b[0m\u001b[0;34m\u001b[0m\u001b[0;34m\u001b[0m\u001b[0m\n\u001b[1;32m     15\u001b[0m \u001b[0;32mfrom\u001b[0m \u001b[0msklearn\u001b[0m\u001b[0;34m.\u001b[0m\u001b[0mneural_network\u001b[0m \u001b[0;32mimport\u001b[0m \u001b[0mBernoulliRBM\u001b[0m\u001b[0;34m\u001b[0m\u001b[0;34m\u001b[0m\u001b[0m\n",
      "\u001b[0;31mModuleNotFoundError\u001b[0m: No module named 'examples'"
     ]
    }
   ],
   "source": [
    "# %tensorflow_version 1.x\n",
    "\n",
    "# %cd /content\n",
    "!pip3 install nose\n",
    "!rm -rf boltzmann-machines\n",
    "!git clone --single-branch --depth=1 --branch with-models https://github.com/hannesdm/boltzmann-machines.git\n",
    "# %cd boltzmann-machines\n",
    "import numpy as np\n",
    "import matplotlib.pyplot as plt\n",
    "plt.rcParams['image.cmap'] = 'gray'\n",
    "plt.rcParams['axes.grid'] = False\n",
    "\n",
    "from examples import callable_dbm_mnist\n",
    "from keras.datasets import mnist\n",
    "from sklearn.neural_network import BernoulliRBM\n",
    "from sklearn import preprocessing\n",
    "from sklearn.metrics import accuracy_score\n",
    "from boltzmann_machines import DBM\n",
    "from boltzmann_machines.rbm import BernoulliRBM\n",
    "from boltzmann_machines.utils import im_plot, Stopwatch"
   ]
  },
  {
   "cell_type": "markdown",
   "metadata": {
    "colab_type": "text",
    "id": "h76_RkCZbw1g"
   },
   "source": [
    "## Load the mnist data"
   ]
  },
  {
   "cell_type": "code",
   "execution_count": 0,
   "metadata": {
    "colab": {},
    "colab_type": "code",
    "id": "umyVA70DYEmM"
   },
   "outputs": [],
   "source": [
    "(X_train, Y_train), (X_test, Y_test) = mnist.load_data()\n",
    "X_train = X_train.reshape((X_train.shape[0], -1))\n",
    "X_test = X_test.reshape((X_test.shape[0],-1))\n",
    "X_train = X_train.astype('float32') / 255\n",
    "X_test = X_test.astype('float32') / 255\n",
    "lb = preprocessing.LabelBinarizer()\n",
    "Y_train_one_hot = lb.fit_transform(Y_train)\n",
    "Y_test_one_hot = lb.transform(Y_test)"
   ]
  },
  {
   "cell_type": "markdown",
   "metadata": {
    "colab_type": "text",
    "id": "HegMeKq0b8s0"
   },
   "source": [
    "## Load a pretrained model and visualise the components\n",
    "To prevent losing too much time on training a deep model, a working pretrained RBM will be used. <br/>\n",
    "**Exercise** Observe the components (weights of each neuron) of the DBM and compare with the components of the previously trained RBM in exercise 1. What is the difference?<br/>\n",
    "Can you explain the difference between the components of the first and second layer of the DBM?\n"
   ]
  },
  {
   "cell_type": "code",
   "execution_count": 0,
   "metadata": {
    "colab": {},
    "colab_type": "code",
    "id": "s0X2KqR_fUU5"
   },
   "outputs": [],
   "source": [
    "rbm1 = BernoulliRBM.load_model('/content/boltzmann-machines/models/dbm_mnist_rbm1/')\n",
    "rbm2 = BernoulliRBM.load_model('/content/boltzmann-machines/models/dbm_mnist_rbm2/')\n",
    "dbm = DBM.load_model('/content/boltzmann-machines/models/dbm_mnist/')\n",
    "dbm.load_rbms([rbm1, rbm2])"
   ]
  },
  {
   "cell_type": "code",
   "execution_count": 0,
   "metadata": {
    "colab": {},
    "colab_type": "code",
    "id": "6VM7wmSKfxHl"
   },
   "outputs": [],
   "source": [
    "W1_joint = dbm.get_tf_params(scope='weights')['W']\n",
    "\n",
    "fig = plt.figure(figsize=(10, 10))\n",
    "im_plot(W1_joint.T, shape=(28, 28), title='First 100 filters of the first layer of the DBM',\n",
    "        title_params={'fontsize': 20}, imshow_params={'cmap': plt.cm.gray})"
   ]
  },
  {
   "cell_type": "code",
   "execution_count": 0,
   "metadata": {
    "colab": {},
    "colab_type": "code",
    "id": "7EXVU-3_f4dA"
   },
   "outputs": [],
   "source": [
    "W2_joint = dbm.get_tf_params(scope='weights')['W_1']\n",
    "U_joint = W1_joint.dot(W2_joint)\n",
    "\n",
    "fig = plt.figure(figsize=(10, 10))\n",
    "im_plot(U_joint.T, shape=(28, 28), title='First 100 filters of the 2nd layer of the DBM',\n",
    "        title_params={'fontsize': 20}, imshow_params={'cmap': plt.cm.gray})"
   ]
  },
  {
   "cell_type": "markdown",
   "metadata": {
    "colab_type": "text",
    "id": "HYaG0cv2gtfG"
   },
   "source": [
    "## Sample the DBM\n",
    "**Exercise** Comment on the quality of the samples and compare them with the samples from the RBM.<br/>\n",
    "Do you see a difference in quality? Explain why."
   ]
  },
  {
   "cell_type": "code",
   "execution_count": 0,
   "metadata": {
    "colab": {},
    "colab_type": "code",
    "id": "pqILfLzKgAv-"
   },
   "outputs": [],
   "source": [
    "gibbs_steps = 100\n",
    "\n",
    "with Stopwatch(verbose=True) as s:\n",
    "    V = dbm.sample_v(n_gibbs_steps=gibbs_steps)\n",
    "\n",
    "fig = plt.figure(figsize=(10, 10))\n",
    "im_plot(V, shape=(28, 28), title='Samples generated by DBM after '+str(gibbs_steps) + ' Gibbs steps',\n",
    "        imshow_params={'cmap': plt.cm.gray})"
   ]
  }
 ],
 "metadata": {
  "accelerator": "GPU",
  "colab": {
   "collapsed_sections": [],
   "name": "DBM.ipynb",
   "provenance": [],
   "toc_visible": true
  },
  "kernelspec": {
   "display_name": "Python 3",
   "language": "python",
   "name": "python3"
  },
  "language_info": {
   "codemirror_mode": {
    "name": "ipython",
    "version": 3
   },
   "file_extension": ".py",
   "mimetype": "text/x-python",
   "name": "python",
   "nbconvert_exporter": "python",
   "pygments_lexer": "ipython3",
   "version": "3.6.9"
  }
 },
 "nbformat": 4,
 "nbformat_minor": 1
}
