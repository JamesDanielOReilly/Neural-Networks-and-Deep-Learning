{
  "nbformat": 4,
  "nbformat_minor": 0,
  "metadata": {
    "colab": {
      "name": "RBM.ipynb",
      "provenance": [],
      "collapsed_sections": []
    },
    "kernelspec": {
      "name": "python3",
      "display_name": "Python 3"
    },
    "accelerator": "GPU"
  },
  "cells": [
    {
      "cell_type": "code",
      "metadata": {
        "id": "c2ut_4TUa9YI",
        "colab_type": "code",
        "colab": {}
      },
      "source": [
        "import numpy as np\n",
        "import matplotlib.pyplot as plt\n",
        "plt.rcParams['image.cmap'] = 'gray'\n",
        "plt.rcParams['axes.grid'] = False\n",
        "\n",
        "from keras.datasets import mnist\n",
        "from sklearn.neural_network import BernoulliRBM"
      ],
      "execution_count": 0,
      "outputs": []
    },
    {
      "cell_type": "markdown",
      "metadata": {
        "id": "PU0RRvez202r",
        "colab_type": "text"
      },
      "source": [
        "## Utility functions used in the notebook"
      ]
    },
    {
      "cell_type": "code",
      "metadata": {
        "id": "PMe6XXoV3lpo",
        "colab_type": "code",
        "colab": {}
      },
      "source": [
        "def rbm_gibbs_sample_image(rbm, im, steps):\n",
        "  assert len(im.shape) < 3\n",
        "  if len(im.shape) == 2:\n",
        "    rows = im.shape[0]\n",
        "    cols = im.shape[1]\n",
        "    im = im.reshape((-1))\n",
        "  else:\n",
        "    im = im.copy()\n",
        "  for _ in range(steps):\n",
        "    im = rbm.gibbs(im)\n",
        "  if rows is not None and cols is not None:\n",
        "    im = im.reshape((rows, cols))\n",
        "  return im.astype('float32')\n",
        "    \n",
        "def image_palette(X, nr = 0, m = 20):\n",
        "  if nr is 0:\n",
        "    nr = X.shape[0]\n",
        "  return np.rollaxis(np.rollaxis(X[0:nr].reshape(m, -1, 28, 28), 0, 2), 1, 3).reshape(-1, m * 28)\n",
        "\n",
        "def remove_rows(X, start, end):\n",
        "  X = X.copy()\n",
        "  if len(X.shape) == 2:\n",
        "    X[start:end] = 0\n",
        "  elif len(X.shape) == 3:\n",
        "    X[:,start:end] = 0\n",
        "  return X"
      ],
      "execution_count": 0,
      "outputs": []
    },
    {
      "cell_type": "markdown",
      "metadata": {
        "id": "zoHtUx1M3Dsu",
        "colab_type": "text"
      },
      "source": [
        "## Load and show the mnist data"
      ]
    },
    {
      "cell_type": "code",
      "metadata": {
        "id": "R3zV5TgRbEPK",
        "colab_type": "code",
        "colab": {}
      },
      "source": [
        "(X_train, Y_train), (X_test, Y_test) = mnist.load_data()\n",
        "X_train = X_train.reshape((X_train.shape[0], -1))\n",
        "X_test = X_test.reshape((X_test.shape[0],-1))\n",
        "X_train = X_train.astype('float32') / 255\n",
        "X_test = X_test.astype('float32') / 255\n",
        "X_test = X_test[0:100]"
      ],
      "execution_count": 0,
      "outputs": []
    },
    {
      "cell_type": "code",
      "metadata": {
        "id": "3v1EJlSVb6Sj",
        "colab_type": "code",
        "colab": {}
      },
      "source": [
        "flattened_images = image_palette(X_train, 100)\n",
        "plt.figure(figsize=(10,20))\n",
        "plt.imshow(flattened_images)"
      ],
      "execution_count": 0,
      "outputs": []
    },
    {
      "cell_type": "markdown",
      "metadata": {
        "id": "Td8zbznQ3fcN",
        "colab_type": "text"
      },
      "source": [
        "## Train the RBM\n",
        "**Exercise** What is the effect of the different parameters: **n_components** and **n_iter**. These parameters are, respectively, the number of components, and the number of iterations. <br/>\n",
        "Evaluate the performance visually in the next code cell.\n"
      ]
    },
    {
      "cell_type": "code",
      "metadata": {
        "id": "0Z8v5HmXfxHe",
        "colab_type": "code",
        "colab": {}
      },
      "source": [
        "rbm = BernoulliRBM(n_components=10, learning_rate=0.01, random_state=0, n_iter=10, verbose=True)\n",
        "rbm.fit(X_train)"
      ],
      "execution_count": 0,
      "outputs": []
    },
    {
      "cell_type": "markdown",
      "metadata": {
        "id": "6Z9ytHpM4quM",
        "colab_type": "text"
      },
      "source": [
        "## Sample the trained RBM and show the result\n",
        "The gibbs_steps variable determines how many Gibbs sampling steps will be performed for each test image i.e. with the test images as initialization. <br/>\n",
        "**Exercise** Try different values and observe the result. Can you explain the result? <br/>\n",
        "Compare the result with the original test images, shown one cell lower.\n"
      ]
    },
    {
      "cell_type": "code",
      "metadata": {
        "id": "G7Vlqianf4jj",
        "colab_type": "code",
        "colab": {}
      },
      "source": [
        "gibbs_steps = 10\n",
        "a = X_test.copy()\n",
        "for i in range(a.shape[0]):\n",
        "  for j in range(gibbs_steps):\n",
        "    a[i] = rbm.gibbs(a[i])\n",
        "plt.figure(figsize=(10,20))\n",
        "plt.imshow(image_palette(a))"
      ],
      "execution_count": 0,
      "outputs": []
    },
    {
      "cell_type": "code",
      "metadata": {
        "id": "wF2TdZRT1XTT",
        "colab_type": "code",
        "colab": {}
      },
      "source": [
        "plt.figure(figsize=(10,20))\n",
        "plt.imshow(image_palette(X_test))"
      ],
      "execution_count": 0,
      "outputs": []
    },
    {
      "cell_type": "markdown",
      "metadata": {
        "id": "kotpRZZS_D8j",
        "colab_type": "text"
      },
      "source": [
        "## Reconstruction of unseen images\n",
        "In this cell, we will remove pixel rows from certain images. Using the recently trained RBM, we will then try to reconstruct the original images.  <br/>\n",
        "The following variables control this process: <br/>\n",
        "\n",
        "\n",
        "*   **reconstruction_gibbs_steps**: The number of gibbs steps used to reconstruct the image.\n",
        "*   **start_test_index**: The first index of the test set to use.\n",
        "*   **nr**: the number of images starting from **start_test_index** to reconstruct.\n",
        "*   **start_row_to_remove**:  The index of the first row that should be removed.\n",
        "*   **end_row_to_remove**: The index up to which the rows should be removed.\n",
        "\n",
        "**Exercise** Adjust these variables and observe the result of the reconstruction in the shown image.\n",
        "What is the role of the previously seen RBM hyperparameters on the reconstruction? <br/>\n",
        "How many rows can you remove such that reconstruction is still possible? <br/>\n",
        "In the next code cell, the removed rows will be replaced by the reconstructed rows.\n",
        "\n",
        "\n"
      ]
    },
    {
      "cell_type": "code",
      "metadata": {
        "id": "ZJSV4ixQAHeh",
        "colab_type": "code",
        "colab": {}
      },
      "source": [
        "reconstruction_gibbs_steps = 10\n",
        "start_test_index = 0\n",
        "nr = 4\n",
        "start_row_to_remove = 0\n",
        "end_row_to_remove = 12\n",
        "to_reconstruct = X_test[start_test_index:start_test_index + nr].reshape((-1,28,28))\n",
        "to_reconstruct = remove_rows(to_reconstruct, start_row_to_remove, end_row_to_remove)\n",
        "reconstructed = np.zeros(to_reconstruct.shape)\n",
        "for i in range(nr):\n",
        "  reconstructed[i] = rbm_gibbs_sample_image(rbm, to_reconstruct[i], reconstruction_gibbs_steps)\n",
        "combined_images = np.concatenate((to_reconstruct,reconstructed), axis=1)\n",
        "fig = plt.figure()\n",
        "for i in range(nr): \n",
        "  ax1 = fig.add_subplot(1,nr,i+1)\n",
        "  ax1.imshow(combined_images[i])\n",
        "\n",
        "plt.show()"
      ],
      "execution_count": 0,
      "outputs": []
    },
    {
      "cell_type": "code",
      "metadata": {
        "id": "GK_KYcn2GTIG",
        "colab_type": "code",
        "colab": {}
      },
      "source": [
        "start_row_to_remove\n",
        "end_row_to_remove\n",
        "to_reconstruct[:,start_row_to_remove:end_row_to_remove] = reconstructed[:,start_row_to_remove:end_row_to_remove]\n",
        "fig = plt.figure()\n",
        "for i in range(nr): \n",
        "  ax1 = fig.add_subplot(1,nr,i+1)\n",
        "  ax1.imshow(to_reconstruct[i])\n",
        "\n",
        "plt.show()"
      ],
      "execution_count": 0,
      "outputs": []
    },
    {
      "cell_type": "markdown",
      "metadata": {
        "id": "1f6SfStuMDpp",
        "colab_type": "text"
      },
      "source": [
        "## Component visualisation\n",
        "In the final cell, the components (weights of each neuron) of the RBM are shown.<br/> \n",
        "Observing these components (think back to CNNs) may offer insights into the trained model."
      ]
    },
    {
      "cell_type": "code",
      "metadata": {
        "id": "B2aValmU6nYG",
        "colab_type": "code",
        "colab": {}
      },
      "source": [
        "plt.figure(figsize=(18, 18))\n",
        "nr_components = rbm.components_.shape[0]\n",
        "for i in range(nr_components):\n",
        "    c = rbm.components_[i]\n",
        "    plt.subplot(10, np.ceil(nr_components/10), i + 1)\n",
        "    plt.imshow(c.reshape((28, 28)), cmap = \"gray\", interpolation='nearest')\n",
        "    plt.axis('off')\n",
        "\n",
        "plt.suptitle('Components extracted by the RBM', fontsize=16);"
      ],
      "execution_count": 0,
      "outputs": []
    }
  ]
}