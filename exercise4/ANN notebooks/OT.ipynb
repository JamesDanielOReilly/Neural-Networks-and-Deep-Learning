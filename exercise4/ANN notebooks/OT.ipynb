{
  "nbformat": 4,
  "nbformat_minor": 0,
  "metadata": {
    "colab": {
      "name": "OT.ipynb",
      "version": "0.3.2",
      "provenance": [],
      "collapsed_sections": [],
      "toc_visible": true
    },
    "kernelspec": {
      "display_name": "Python 2",
      "name": "python2",
      "language": "python"
    }
  },
  "cells": [
    {
      "metadata": {
        "id": "nmKZzV32yvEQ",
        "colab_type": "code",
        "colab": {}
      },
      "cell_type": "code",
      "source": [
        "%matplotlib inline"
      ],
      "execution_count": 0,
      "outputs": []
    },
    {
      "metadata": {
        "id": "IUMogLUhywWd",
        "colab_type": "code",
        "colab": {}
      },
      "cell_type": "code",
      "source": [
        "# Import packages\n",
        "!pip install POT"
      ],
      "execution_count": 0,
      "outputs": []
    },
    {
      "metadata": {
        "id": "zLMZMAKfyvEZ",
        "colab_type": "text"
      },
      "cell_type": "markdown",
      "source": [
        "\n",
        "# OT for image color adaptation\n",
        "\n",
        "\n",
        "This example presents a way of transferring colors between two image\n",
        "with Optimal Transport as introduced in [6]\n",
        "\n",
        "[6] Ferradans, S., Papadakis, N., Peyre, G., & Aujol, J. F. (2014).\n",
        "Regularized discrete optimal transport.\n",
        "SIAM Journal on Imaging Sciences, 7(3), 1853-1882.\n",
        "\n"
      ]
    },
    {
      "metadata": {
        "id": "VHFNJHxYyvEb",
        "colab_type": "code",
        "colab": {}
      },
      "cell_type": "code",
      "source": [
        "# Authors: Remi Flamary <remi.flamary@unice.fr>\n",
        "#          Stanislas Chambon <stan.chambon@gmail.com>\n",
        "#\n",
        "# License: MIT License\n",
        "\n",
        "import numpy as np\n",
        "from scipy import ndimage\n",
        "import matplotlib.pylab as pl\n",
        "import ot\n",
        "\n",
        "\n",
        "r = np.random.RandomState(42)\n",
        "\n",
        "\n",
        "def im2mat(I):\n",
        "    \"\"\"Converts and image to matrix (one pixel per line)\"\"\"\n",
        "    return I.reshape((I.shape[0] * I.shape[1], I.shape[2]))\n",
        "\n",
        "\n",
        "def mat2im(X, shape):\n",
        "    \"\"\"Converts back a matrix to an image\"\"\"\n",
        "    return X.reshape(shape)\n",
        "\n",
        "\n",
        "def minmax(I):\n",
        "    return np.clip(I, 0, 1)"
      ],
      "execution_count": 0,
      "outputs": []
    },
    {
      "metadata": {
        "id": "GPwyKQgNyvEg",
        "colab_type": "text"
      },
      "cell_type": "markdown",
      "source": [
        "Generate data\n",
        "-------------\n",
        "**Exercise** Upload you own images using the Files tab to the left and replace values of the **image1** and **image2** variables with your own file names. <br/> Make sure that both images have the same dimensions. <br/>Afterwards transfer the colors between the two image using the provided code. <br/> Observe the results and comment on what you have understood from this optimal transport example.\n",
        "\n"
      ]
    },
    {
      "metadata": {
        "id": "lZq1RlAAyvEi",
        "colab_type": "code",
        "colab": {}
      },
      "cell_type": "code",
      "source": [
        "image1 = 'a.jpg'\n",
        "image2 = 'b.jpg'\n",
        "\n",
        "# Loading images\n",
        "I1 = pl.imread(image1).astype(np.float64) / 256\n",
        "I2 = pl.imread(image2).astype(np.float64) / 256\n",
        "\n",
        "X1 = im2mat(I1)\n",
        "X2 = im2mat(I2)\n",
        "\n",
        "# training samples\n",
        "nb = 1000\n",
        "idx1 = r.randint(X1.shape[0], size=(nb,))\n",
        "idx2 = r.randint(X2.shape[0], size=(nb,))\n",
        "\n",
        "Xs = X1[idx1, :]\n",
        "Xt = X2[idx2, :]"
      ],
      "execution_count": 0,
      "outputs": []
    },
    {
      "metadata": {
        "id": "CefcvaQwyvEn",
        "colab_type": "text"
      },
      "cell_type": "markdown",
      "source": [
        "Plot original image\n",
        "-------------------\n",
        "\n"
      ]
    },
    {
      "metadata": {
        "id": "ewizqHqAyvEp",
        "colab_type": "code",
        "colab": {}
      },
      "cell_type": "code",
      "source": [
        "pl.figure(1, figsize=(6.4, 3))\n",
        "\n",
        "pl.subplot(1, 2, 1)\n",
        "pl.imshow(I1)\n",
        "pl.axis('off')\n",
        "pl.title('Image 1')\n",
        "\n",
        "pl.subplot(1, 2, 2)\n",
        "pl.imshow(I2)\n",
        "pl.axis('off')\n",
        "pl.title('Image 2')"
      ],
      "execution_count": 0,
      "outputs": []
    },
    {
      "metadata": {
        "id": "PfIYDH-oyvEs",
        "colab_type": "text"
      },
      "cell_type": "markdown",
      "source": [
        "Scatter plot of colors\n",
        "----------------------\n",
        "\n"
      ]
    },
    {
      "metadata": {
        "id": "VbKeEAQEyvEt",
        "colab_type": "code",
        "colab": {}
      },
      "cell_type": "code",
      "source": [
        "pl.figure(2, figsize=(6.4, 3))\n",
        "\n",
        "pl.subplot(1, 2, 1)\n",
        "pl.scatter(Xs[:, 0], Xs[:, 2], c=Xs)\n",
        "pl.axis([0, 1, 0, 1])\n",
        "pl.xlabel('Red')\n",
        "pl.ylabel('Blue')\n",
        "pl.title('Image 1')\n",
        "\n",
        "pl.subplot(1, 2, 2)\n",
        "pl.scatter(Xt[:, 0], Xt[:, 2], c=Xt)\n",
        "pl.axis([0, 1, 0, 1])\n",
        "pl.xlabel('Red')\n",
        "pl.ylabel('Blue')\n",
        "pl.title('Image 2')\n",
        "pl.tight_layout()"
      ],
      "execution_count": 0,
      "outputs": []
    },
    {
      "metadata": {
        "id": "ghh2RNjjyvEv",
        "colab_type": "text"
      },
      "cell_type": "markdown",
      "source": [
        "Instantiate the different transport algorithms and fit them\n",
        "-----------------------------------------------------------\n",
        "\n"
      ]
    },
    {
      "metadata": {
        "id": "2EZmd-x6yvEw",
        "colab_type": "code",
        "colab": {}
      },
      "cell_type": "code",
      "source": [
        "# Parameters\n",
        "reg_e = 1e-1 # Entropic regularization term \n",
        "\n",
        "# EMD (Earth Mover's Distance) Transport\n",
        "ot_emd = ot.da.EMDTransport()\n",
        "ot_emd.fit(Xs=Xs, Xt=Xt)\n",
        "\n",
        "# SinkhornTransport\n",
        "ot_sinkhorn = ot.da.SinkhornTransport(reg_e)\n",
        "ot_sinkhorn.fit(Xs=Xs, Xt=Xt)\n",
        "\n",
        "# prediction between images (using out of sample prediction as in [6])\n",
        "transp_Xs_emd = ot_emd.transform(Xs=X1)\n",
        "transp_Xt_emd = ot_emd.inverse_transform(Xt=X2)\n",
        "\n",
        "transp_Xs_sinkhorn = ot_sinkhorn.transform(Xs=X1)\n",
        "transp_Xt_sinkhorn = ot_sinkhorn.inverse_transform(Xt=X2)\n",
        "\n",
        "I1t = minmax(mat2im(transp_Xs_emd, I1.shape))\n",
        "I2t = minmax(mat2im(transp_Xt_emd, I2.shape))\n",
        "\n",
        "I1te = minmax(mat2im(transp_Xs_sinkhorn, I1.shape))\n",
        "I2te = minmax(mat2im(transp_Xt_sinkhorn, I2.shape))"
      ],
      "execution_count": 0,
      "outputs": []
    },
    {
      "metadata": {
        "id": "ecBopXMjyvEy",
        "colab_type": "text"
      },
      "cell_type": "markdown",
      "source": [
        "Plot new images\n",
        "---------------\n",
        "\n"
      ]
    },
    {
      "metadata": {
        "id": "ot3JSy8byvEz",
        "colab_type": "code",
        "colab": {}
      },
      "cell_type": "code",
      "source": [
        "pl.figure(3, figsize=(8, 4))\n",
        "\n",
        "pl.subplot(2, 3, 1)\n",
        "pl.imshow(I1)\n",
        "pl.axis('off')\n",
        "pl.title('Image 1')\n",
        "\n",
        "pl.subplot(2, 3, 2)\n",
        "pl.imshow(I1t)\n",
        "pl.axis('off')\n",
        "pl.title('Image 1 Adapt')\n",
        "\n",
        "pl.subplot(2, 3, 3)\n",
        "pl.imshow(I1te)\n",
        "pl.axis('off')\n",
        "pl.title('Image 1 Adapt (reg)')\n",
        "\n",
        "pl.subplot(2, 3, 4)\n",
        "pl.imshow(I2)\n",
        "pl.axis('off')\n",
        "pl.title('Image 2')\n",
        "\n",
        "pl.subplot(2, 3, 5)\n",
        "pl.imshow(I2t)\n",
        "pl.axis('off')\n",
        "pl.title('Image 2 Adapt')\n",
        "\n",
        "pl.subplot(2, 3, 6)\n",
        "pl.imshow(I2te)\n",
        "pl.axis('off')\n",
        "pl.title('Image 2 Adapt (reg)')\n",
        "pl.tight_layout()\n",
        "\n",
        "pl.show()"
      ],
      "execution_count": 0,
      "outputs": []
    }
  ]
}
