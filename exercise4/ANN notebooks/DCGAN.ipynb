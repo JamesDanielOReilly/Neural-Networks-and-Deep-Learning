{
  "nbformat": 4,
  "nbformat_minor": 0,
  "metadata": {
    "colab": {
      "name": "DCGAN.ipynb",
      "provenance": [],
      "collapsed_sections": []
    },
    "kernelspec": {
      "name": "python3",
      "display_name": "Python 3"
    },
    "accelerator": "GPU"
  },
  "cells": [
    {
      "cell_type": "code",
      "metadata": {
        "id": "bvxSPAKQj9gd",
        "colab_type": "code",
        "colab": {}
      },
      "source": [
        "%tensorflow_version 1.x\n",
        "\n",
        "%cd /content\n",
        "! rm -rf gan-tools\n",
        "!git clone --single-branch --depth=1 --branch master https://github.com/hannesdm/gan-tools.git\n",
        "%cd gan-tools\n",
        "from keras.datasets import mnist\n",
        "import impl\n",
        "from impl import *\n",
        "from core import vis\n",
        "from core import gan\n",
        "from core import constraint\n",
        "import matplotlib.pyplot as plt\n",
        "plt.rcParams['image.cmap'] = 'gray'\n",
        "plt.rcParams['axes.grid'] = False\n"
      ],
      "execution_count": 0,
      "outputs": []
    },
    {
      "cell_type": "markdown",
      "metadata": {
        "id": "RqQjkSRHseDK",
        "colab_type": "text"
      },
      "source": [
        "## Load the cifar10 data\n",
        "The CIFAR-10 dataset consists of 60000 32x32 colour images in 10 classes, with 6000 images per class. There are 50000 training images and 10000 test images.  <br/>\n",
        "**Exercise** We will select a single class of this dataset to model. This can be done by setting the **model_class** variable to the corresponding class. <br/>\n",
        "One cell lower, a few images of the selected class are shown."
      ]
    },
    {
      "cell_type": "code",
      "metadata": {
        "id": "XbdA5WBEkf05",
        "colab_type": "code",
        "colab": {}
      },
      "source": [
        "model_class = 1\n",
        "(X_train_original, Y_train), (_, _) = cifar10.load_data()\n",
        "X_train_single_class = X_train_original[np.where(np.squeeze(Y_train) == model_class)]\n",
        "X_train = X_train_single_class / 127.5 - 1."
      ],
      "execution_count": 0,
      "outputs": []
    },
    {
      "cell_type": "code",
      "metadata": {
        "id": "kHRNCEkA-VA6",
        "colab_type": "code",
        "colab": {}
      },
      "source": [
        "grid = vis.image_grid(X_train_single_class[0:20], 5)\n",
        "plt.imshow(grid)"
      ],
      "execution_count": 0,
      "outputs": []
    },
    {
      "cell_type": "markdown",
      "metadata": {
        "id": "edP72fs0v6bs",
        "colab_type": "text"
      },
      "source": [
        "## Train the DCGAN\n",
        "<img src=\"https://i.imgur.com/NFUiEf5.png\" width=\"450\"> <br/>\n",
        "The following code will train a GAN with a working DCGAN architecture. This training can be controlled by the following parameters:\n",
        "\n",
        "\n",
        "*   **batches**: The number of batches the GAN should train on.\n",
        "*   **batch_size**: The size of each batch.\n",
        "*    **plot_interval**: After how many batches the generator should be sampled and the images shown.\n",
        "\n",
        "The default parameters may be kept. <br/>\n",
        "Make sure to train the GAN for a sufficient amount of time in order to see realistic samples. At any point, the training may be stopped by clicking on the stop button or on 'interrupt execution' in the runtime menu at the top of the page.<br/> In the same menu, the runtime type may also be changed to 'GPU'. This will speed up the training of the models. <br/>\n",
        "**Exercise** Comment on the loss and accuracy of the generator and discriminator, shown during training and discuss its stability.\n",
        "\n",
        "\n",
        "\n"
      ]
    },
    {
      "cell_type": "code",
      "metadata": {
        "id": "yWgM6KsDmVxU",
        "colab_type": "code",
        "colab": {}
      },
      "source": [
        "gan = cifar10_dcgan()\n",
        "gan.train_random_batches(X_train, batches = 20000, batch_size=32, plot_interval = 50)\n",
        "vis.show_gan_image_predictions(gan, 32)"
      ],
      "execution_count": 0,
      "outputs": []
    },
    {
      "cell_type": "markdown",
      "metadata": {
        "id": "c_s7JNgnDNMq",
        "colab_type": "text"
      },
      "source": [
        "## Stability in GANs\n",
        "Sadly, training a GAN is not always this easy. <br/>\n",
        "Stability during training is important for both discriminator and generator to learn. <br/>\n",
        "Below is a short video (50s) showing the intermediate results of a GAN being trained on mnist. The final result is a phenomenon known as 'mode collapse'. <br/>\n",
        "<img src='https://i.imgur.com/lG35xDP.gif'>\n"
      ]
    }
  ]
}