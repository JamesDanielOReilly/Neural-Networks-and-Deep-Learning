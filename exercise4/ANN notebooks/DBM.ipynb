{
  "nbformat": 4,
  "nbformat_minor": 0,
  "metadata": {
    "colab": {
      "name": "DBM.ipynb",
      "provenance": [],
      "collapsed_sections": [],
      "toc_visible": true
    },
    "kernelspec": {
      "name": "python3",
      "display_name": "Python 3"
    },
    "accelerator": "GPU"
  },
  "cells": [
    {
      "cell_type": "code",
      "metadata": {
        "id": "c2ut_4TUa9YI",
        "colab_type": "code",
        "colab": {}
      },
      "source": [
        "%tensorflow_version 1.x\n",
        "\n",
        "%cd /content\n",
        "!pip install nose\n",
        "!rm -rf boltzmann-machines\n",
        "!git clone --single-branch --depth=1 --branch with-models https://github.com/hannesdm/boltzmann-machines.git\n",
        "%cd boltzmann-machines\n",
        "import numpy as np\n",
        "import matplotlib.pyplot as plt\n",
        "plt.rcParams['image.cmap'] = 'gray'\n",
        "plt.rcParams['axes.grid'] = False\n",
        "\n",
        "from examples import callable_dbm_mnist\n",
        "from keras.datasets import mnist\n",
        "from sklearn.neural_network import BernoulliRBM\n",
        "from sklearn import preprocessing\n",
        "from sklearn.metrics import accuracy_score\n",
        "from boltzmann_machines import DBM\n",
        "from boltzmann_machines.rbm import BernoulliRBM\n",
        "from boltzmann_machines.utils import im_plot, Stopwatch"
      ],
      "execution_count": 0,
      "outputs": []
    },
    {
      "cell_type": "markdown",
      "metadata": {
        "id": "h76_RkCZbw1g",
        "colab_type": "text"
      },
      "source": [
        "## Load the mnist data"
      ]
    },
    {
      "cell_type": "code",
      "metadata": {
        "id": "umyVA70DYEmM",
        "colab_type": "code",
        "colab": {}
      },
      "source": [
        "(X_train, Y_train), (X_test, Y_test) = mnist.load_data()\n",
        "X_train = X_train.reshape((X_train.shape[0], -1))\n",
        "X_test = X_test.reshape((X_test.shape[0],-1))\n",
        "X_train = X_train.astype('float32') / 255\n",
        "X_test = X_test.astype('float32') / 255\n",
        "lb = preprocessing.LabelBinarizer()\n",
        "Y_train_one_hot = lb.fit_transform(Y_train)\n",
        "Y_test_one_hot = lb.transform(Y_test)"
      ],
      "execution_count": 0,
      "outputs": []
    },
    {
      "cell_type": "markdown",
      "metadata": {
        "id": "HegMeKq0b8s0",
        "colab_type": "text"
      },
      "source": [
        "## Load a pretrained model and visualise the components\n",
        "To prevent losing too much time on training a deep model, a working pretrained RBM will be used. <br/>\n",
        "**Exercise** Observe the components (weights of each neuron) of the DBM and compare with the components of the previously trained RBM in exercise 1. What is the difference?<br/>\n",
        "Can you explain the difference between the components of the first and second layer of the DBM?\n"
      ]
    },
    {
      "cell_type": "code",
      "metadata": {
        "id": "s0X2KqR_fUU5",
        "colab_type": "code",
        "colab": {}
      },
      "source": [
        "rbm1 = BernoulliRBM.load_model('/content/boltzmann-machines/models/dbm_mnist_rbm1/')\n",
        "rbm2 = BernoulliRBM.load_model('/content/boltzmann-machines/models/dbm_mnist_rbm2/')\n",
        "dbm = DBM.load_model('/content/boltzmann-machines/models/dbm_mnist/')\n",
        "dbm.load_rbms([rbm1, rbm2])"
      ],
      "execution_count": 0,
      "outputs": []
    },
    {
      "cell_type": "code",
      "metadata": {
        "id": "6VM7wmSKfxHl",
        "colab_type": "code",
        "colab": {}
      },
      "source": [
        "W1_joint = dbm.get_tf_params(scope='weights')['W']\n",
        "\n",
        "fig = plt.figure(figsize=(10, 10))\n",
        "im_plot(W1_joint.T, shape=(28, 28), title='First 100 filters of the first layer of the DBM',\n",
        "        title_params={'fontsize': 20}, imshow_params={'cmap': plt.cm.gray})"
      ],
      "execution_count": 0,
      "outputs": []
    },
    {
      "cell_type": "code",
      "metadata": {
        "id": "7EXVU-3_f4dA",
        "colab_type": "code",
        "colab": {}
      },
      "source": [
        "W2_joint = dbm.get_tf_params(scope='weights')['W_1']\n",
        "U_joint = W1_joint.dot(W2_joint)\n",
        "\n",
        "fig = plt.figure(figsize=(10, 10))\n",
        "im_plot(U_joint.T, shape=(28, 28), title='First 100 filters of the 2nd layer of the DBM',\n",
        "        title_params={'fontsize': 20}, imshow_params={'cmap': plt.cm.gray})"
      ],
      "execution_count": 0,
      "outputs": []
    },
    {
      "cell_type": "markdown",
      "metadata": {
        "id": "HYaG0cv2gtfG",
        "colab_type": "text"
      },
      "source": [
        "## Sample the DBM\n",
        "**Exercise** Comment on the quality of the samples and compare them with the samples from the RBM.<br/>\n",
        "Do you see a difference in quality? Explain why."
      ]
    },
    {
      "cell_type": "code",
      "metadata": {
        "id": "pqILfLzKgAv-",
        "colab_type": "code",
        "colab": {}
      },
      "source": [
        "gibbs_steps = 100\n",
        "\n",
        "with Stopwatch(verbose=True) as s:\n",
        "    V = dbm.sample_v(n_gibbs_steps=gibbs_steps)\n",
        "\n",
        "fig = plt.figure(figsize=(10, 10))\n",
        "im_plot(V, shape=(28, 28), title='Samples generated by DBM after '+str(gibbs_steps) + ' Gibbs steps',\n",
        "        imshow_params={'cmap': plt.cm.gray})"
      ],
      "execution_count": 0,
      "outputs": []
    }
  ]
}